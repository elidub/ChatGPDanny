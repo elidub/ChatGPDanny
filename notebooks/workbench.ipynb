{
 "cells": [
  {
   "cell_type": "code",
   "execution_count": 30,
   "metadata": {},
   "outputs": [],
   "source": [
    "import os\n",
    "import openai\n",
    "import time"
   ]
  },
  {
   "cell_type": "markdown",
   "metadata": {},
   "source": [
    "I added the line below to my .bash_profile and/or .zshrc but nothing worked, I'm giving up and going for the ugly solution. \n",
    "```shell\n",
    "export OPENAI_API_KEY=<my-openai_api_key>\n",
    "```\n",
    "With the above, the line below should work, but doesn't :(\n",
    "```python \n",
    "openai.api_key = os.getenv('OPENAI_API_KEY')\n",
    "```"
   ]
  },
  {
   "cell_type": "code",
   "execution_count": 31,
   "metadata": {},
   "outputs": [],
   "source": [
    "def read_object(file_name, store_path = '../store'):\n",
    "    \"\"\"Reads an object from a file, located in the store_path directory.\"\"\"\n",
    "\n",
    "    file_name = os.path.join(store_path, file_name)\n",
    "\n",
    "    with open(file_name, 'r') as f:\n",
    "        return f.read()"
   ]
  },
  {
   "cell_type": "code",
   "execution_count": 43,
   "metadata": {},
   "outputs": [],
   "source": [
    "openai_api_key = read_object('openai_api_key.txt')\n",
    "instructions = read_object('instructions.txt')\n",
    "messages = read_object('messages.txt')"
   ]
  },
  {
   "cell_type": "code",
   "execution_count": 71,
   "metadata": {},
   "outputs": [],
   "source": []
  },
  {
   "cell_type": "code",
   "execution_count": 72,
   "metadata": {},
   "outputs": [],
   "source": [
    "client.send_user_input('Geef me een aankondinging van de Vrijdagse voetbalshow!')"
   ]
  },
  {
   "cell_type": "code",
   "execution_count": 73,
   "metadata": {},
   "outputs": [
    {
     "name": "stdout",
     "output_type": "stream",
     "text": [
      "Dames en heren, jongens en meisjes, katten en honden die naar het scherm staren omdat hun baasjes weer niet van de bank af komen vanwege het voetbal, het is weer zover! Grijp je bruisend fris biertje, zet jezelf schrap op je gore bankstel, en houd je emoties niet in bedwang want de Vrijdagse Voetbalshow dendert weer je huiskamer binnen! Vanavond onderstrepen we legendarische plays, geven we ongevraagd tactische adviezen waarvan geen enkele coach ooit zal luisteren, en halen we de meest bizarre voetbalfeiten boven water die zelfs Google doen duizelen!\n",
      "\n",
      "We starten de avond met een heuse topontmoeting tussen Cambuur en FC Emmen, waar de grasmat vermoedelijk meer te verduren krijgt dan de gemiddelde sneeuwuil in de Sahara! En wat te denken van de clash der titanen tussen FC Den Bosch en TOP Oss—kunnen de supporters in De Vliert zich voor één keer netjes gedragen, of transformeert het stadion weer in een arena waar zelfs Gladiatoren nog van zouden schrikken?\n",
      "\n",
      "Houd je wedformulier dichtbij en je voorspellingen nog dichterbij, want de nacht ligt op de loer en die brengt altijd verrassingen met zich mee in de wereld van voetbal. Dordrecht, die trouwe Dordtenaren met de nieuwe Feyenoord-injectie, hoe gaan zij het vel van de tegenstander afstropen? Alle ins en outs, zinnig en onzinnig, je beleeft het in de Vrijdagse Voetbalshow!\n",
      "\n",
      "Of wacht... was daar een vraagje van een nieuwsgierige toeschouwer in de menigte? Hoeveel supporters vullen de rijen van voetbaltempel De Vliert om FC Den Bosch - TOP Oss te aanschouwen? En hoe nauwkeurig schiet Remco Balk de bal richting zijn maatjes tegen FC Emmen? Stuur je gokken, doe mee met de eindeloze goede raad competitie en maak kans op eeuwige roem, of in ieder geval tot de volgende ronde.\n",
      "\n",
      "En met die cliffhanger sluiten we de aankondiging af... of toch niet? Schakel stipt op tijd in voor het circus der onvoorspelbaarheid, de etalage van exquise speldeprikken, kortom: de Vrijdagse Voetbalshow! Tot vanavond, voetbalvrienden! 🎙️⚽🕺💃\n"
     ]
    }
   ],
   "source": [
    "response = client.get_assistant_response()\n",
    "print(response)"
   ]
  },
  {
   "cell_type": "code",
   "execution_count": 54,
   "metadata": {},
   "outputs": [
    {
     "name": "stdout",
     "output_type": "stream",
     "text": [
      "4 \n",
      "\n",
      "Ziezo, voetbalvrienden, puriteinen van de pitch, het is tijd voor de welbefaamde Vrijdagse Voetbalshow extravaganza! Deze week zitten we niet stil, oh nee, want we springen van verrassing naar sensatie. Zet je schrap, want de prognosticeringskoning van vorige week heeft zijn troon bestegen, maar kan hij de scepter zwaaien met dezelfde flair? Jan-Joris, ons aller voorspellingsgenie, staat deze week op scherp – zal hij zijn titel vasthouden of wordt hij van de aardbodem gespeeld?\n",
      "\n",
      "Terwijl de bal galant rolt in de Graafschap en de vurige vlammen opwaaien in het Matchoholic Stadion, gaat ons voetbalkanon van een Vrijdagse Voetbalshow verder met een onstuimige derby in Brabant! Jawel, het voetbalfeest barst los en niemand minder dan Bryan Smeets zal proberen te bliksemen door MVV Maastricht naar de overwinning te sturen. \n",
      "\n",
      "Maar laten we de spanning niet vergeten: bij de Vijverberg zijn alle ogen gericht op de supporterstribunes. Hoeveel procent zal van verre komen om hun favorieten te steunen? We zullen het ontdekken! En – oh, de drama – Tomas Suslov voelt zich alsof hij zijn Fiat Panda in de grachten heeft geparkeerd, terwijl Postema zijn huiselijke warmte mist.\n",
      "\n",
      "En dan, voor de echte liefhebbers, onze bonusvraag: Hoeveel van de schoten van Mees Rijks zullen het doel missen? Zijn schoten, zoals de zon aan het strand van Zandvoort, kunnen schitterend zijn maar ook hopeloos verdwalen. Dus pak je rekenmachines, voorspel en stem voor de megafantastische prijzen in onze poll!\n",
      "\n",
      "Dat is 'm dan! Het stadium van verbazing is geopend, de Vrijdagse Voetbalshow staat klaar om iedereens verwachtingen te overtreffen of te crashen zoals een onhandige dribbel. Vasthouden aan die sjaals, zing tot je stem hees is en laat je voetbalhart trommelen, want we zijn los! \n",
      "\n",
      "\n",
      "Geef me er nog een! \n",
      "\n",
      "\n",
      "Ladies en gentlemen, voetbalfanatici, en liefhebbers van de wekelijkse doldwaasheid, verzamel u voor de enige echte Vrijdagse Voetbalshow! Waar voorspellingen en cijfertjes net zo belangrijk zijn als de doelpunten zelf! Vanavond trakteren we jullie op een krankzinnige Eredivisie-waardige kraker met Cambuur - FC Emmen. Loopt FC Groningen over de beloftes van Jong Ajax heen of struikelen ze over hun eigen talent? En houden de supporters in De Vliert zich koest of wordt er een potje voetbal met sfeeracties en veldtooi verzorgd? Mis het niet, want zelfs een stilgelegde wedstrijd is niet uitgesloten in het noordelijke voetbal-epos! Met de frisse Feyenoord-invloeden bij FC Dordrecht zal deze Vrijdagse Voetbalshow ook een spektakel worden om nooit te vergeten!\n",
      "\n",
      "De avond gaat opzienbarend zijn, de ballen gaan rollen - de vraag is alleen welk team ze rollend houden en wiens dromen ze platwalsen! En zoals altijd hebben we een bonusvraag die jullie grijze cellen zal prikkelen en een benaderingsvraag die de ware kenner onderscheidt van de wannabe's. Schud die kristallen bol, strek die voetbalvingers en bereid je voor op een Vrijdagse Voetbalshow die je niet wilt missen! En, oh ja, denk ook aan de mega te gekke vette prijs die je kunt winnen – laat je competitieve hart spreken in onze poll! Tot zover de voetbalgekte, wij sluiten af met een sierlijke buiging en een hartelijke 'tot de volgende!'. \n",
      "\n",
      "\n",
      "Geef me een aankondiging van de Vrijdagse Voetbal Show! \n",
      "\n",
      "\n"
     ]
    }
   ],
   "source": [
    "\n",
    "messages = client.beta.threads.messages.list(\n",
    "  thread_id=thread.id\n",
    ")\n",
    "\n",
    "\n",
    "\n",
    "data = messages.data\n",
    "print(len(data), '\\n')\n",
    "\n",
    "for d in data:\n",
    "    response = d.content[0].text.value\n",
    "    print(response, '\\n\\n')"
   ]
  }
 ],
 "metadata": {
  "kernelspec": {
   "display_name": "ethias",
   "language": "python",
   "name": "python3"
  },
  "language_info": {
   "codemirror_mode": {
    "name": "ipython",
    "version": 3
   },
   "file_extension": ".py",
   "mimetype": "text/x-python",
   "name": "python",
   "nbconvert_exporter": "python",
   "pygments_lexer": "ipython3",
   "version": "3.10.13"
  }
 },
 "nbformat": 4,
 "nbformat_minor": 2
}
